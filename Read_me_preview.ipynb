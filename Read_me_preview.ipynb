{
 "cells": [
  {
   "cell_type": "markdown",
   "id": "786500fc",
   "metadata": {},
   "source": [
    "READ_ME"
   ]
  },
  {
   "cell_type": "markdown",
   "id": "27af1df9",
   "metadata": {},
   "source": [
    "This analyses focus on a 2 prone approach to the OLIST dataset.\n",
    "\n",
    "The first one is quite simple WHERE are the buyers and Where are the sellers in this data.  \n",
    "\n",
    "\n",
    "We can see the table bellow that SP(São Paulo) is ahead in this topic with a massive lead in sellers"
   ]
  },
  {
   "cell_type": "markdown",
   "id": "c8f4a5f3",
   "metadata": {},
   "source": []
  }
 ],
 "metadata": {
  "kernelspec": {
   "display_name": "Python 3 (ipykernel)",
   "language": "python",
   "name": "python3"
  },
  "language_info": {
   "codemirror_mode": {
    "name": "ipython",
    "version": 3
   },
   "file_extension": ".py",
   "mimetype": "text/x-python",
   "name": "python",
   "nbconvert_exporter": "python",
   "pygments_lexer": "ipython3",
   "version": "3.9.12"
  },
  "toc": {
   "base_numbering": 1,
   "nav_menu": {},
   "number_sections": true,
   "sideBar": true,
   "skip_h1_title": false,
   "title_cell": "Table of Contents",
   "title_sidebar": "Contents",
   "toc_cell": false,
   "toc_position": {},
   "toc_section_display": true,
   "toc_window_display": false
  },
  "varInspector": {
   "cols": {
    "lenName": 16,
    "lenType": 16,
    "lenVar": 40
   },
   "kernels_config": {
    "python": {
     "delete_cmd_postfix": "",
     "delete_cmd_prefix": "del ",
     "library": "var_list.py",
     "varRefreshCmd": "print(var_dic_list())"
    },
    "r": {
     "delete_cmd_postfix": ") ",
     "delete_cmd_prefix": "rm(",
     "library": "var_list.r",
     "varRefreshCmd": "cat(var_dic_list()) "
    }
   },
   "types_to_exclude": [
    "module",
    "function",
    "builtin_function_or_method",
    "instance",
    "_Feature"
   ],
   "window_display": false
  }
 },
 "nbformat": 4,
 "nbformat_minor": 5
}
